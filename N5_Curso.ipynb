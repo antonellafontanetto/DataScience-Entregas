{
  "nbformat": 4,
  "nbformat_minor": 0,
  "metadata": {
    "kernelspec": {
      "display_name": "Python 3",
      "language": "python",
      "name": "python3"
    },
    "language_info": {
      "codemirror_mode": {
        "name": "ipython",
        "version": 3
      },
      "file_extension": ".py",
      "mimetype": "text/x-python",
      "name": "python",
      "nbconvert_exporter": "python",
      "pygments_lexer": "ipython3",
      "version": "3.7.3"
    },
    "colab": {
      "provenance": [],
      "include_colab_link": true
    }
  },
  "cells": [
    {
      "cell_type": "markdown",
      "metadata": {
        "id": "view-in-github",
        "colab_type": "text"
      },
      "source": [
        "<a href=\"https://colab.research.google.com/github/antonellafontanetto/DataScience-Entregas/blob/main/N5_Curso.ipynb\" target=\"_parent\"><img src=\"https://colab.research.google.com/assets/colab-badge.svg\" alt=\"Open In Colab\"/></a>"
      ]
    },
    {
      "cell_type": "markdown",
      "metadata": {
        "id": "Gp2WddtV9IwG"
      },
      "source": [
        "# Programa Ingenias+ Data Science"
      ]
    },
    {
      "cell_type": "markdown",
      "metadata": {
        "id": "X03mviQS9IyL"
      },
      "source": [
        "# Ejercicios\n",
        "\n",
        "1. Crear un arreglo de ceros de longitud 12\n",
        "2. Crear un arreglo de longitud 10 con ceros en todas sus posiciones y un 10 en la posición número 5\n",
        "3. Crear un arreglo que tenga los números del 10 al 49\n",
        "4. Crear una arreglo 2d de shape (3, 3) que tenga los números del 0 al 8\n",
        "5. Crear un arreglo de números aleatorios de longitud 100 y obtener su media y varianza\n",
        "6. Calcular la media de un arreglo usando np.sum\n",
        "7. Calcular la varianza de un arreglo usando np.sum y np.mean\n",
        "8. Crear un array de números aleatorios usando np.random.randn.\n"
      ]
    },
    {
      "cell_type": "code",
      "source": [
        "#Importar numpy\n",
        "import numpy as np"
      ],
      "metadata": {
        "id": "_Ml6ucHAe0dr"
      },
      "execution_count": null,
      "outputs": []
    },
    {
      "cell_type": "code",
      "source": [
        "#Ejercicio1 Crear un arreglo de ceros de longitud 12"
      ],
      "metadata": {
        "id": "tawXg7-plFxr"
      },
      "execution_count": null,
      "outputs": []
    },
    {
      "cell_type": "code",
      "source": [
        "array_12=np.zeros(12) #doy nombre al array\n",
        "print(array_12) #luego lo imprimo\n",
        "len (array_12) #la función len me permite la longitud\n"
      ],
      "metadata": {
        "id": "bDHUnDG-e0TB",
        "colab": {
          "base_uri": "https://localhost:8080/"
        },
        "outputId": "03aa5fa4-8e4a-4e0a-9cb4-8cd3a7b828b8"
      },
      "execution_count": null,
      "outputs": [
        {
          "output_type": "stream",
          "name": "stdout",
          "text": [
            "[0. 0. 0. 0. 0. 0. 0. 0. 0. 0. 0. 0.]\n"
          ]
        },
        {
          "output_type": "execute_result",
          "data": {
            "text/plain": [
              "12"
            ]
          },
          "metadata": {},
          "execution_count": 5
        }
      ]
    },
    {
      "cell_type": "markdown",
      "source": [
        "**1.1** Voy a crear un arreglo de ceros de longitud 10, a modo de otro ejemplo ;)"
      ],
      "metadata": {
        "id": "kL0xo6oHnL4t"
      }
    },
    {
      "cell_type": "code",
      "source": [
        "import numpy as np\n"
      ],
      "metadata": {
        "id": "8efpIHVQnYkt"
      },
      "execution_count": null,
      "outputs": []
    },
    {
      "cell_type": "code",
      "source": [
        "array_10=np.zeros(10) #acá creo la variable\n",
        "print(array_10) #luego imprimo la variable\n",
        "len (array_10) #la función len me permite obtener la longitud de mi array\n",
        "print (np.zeros(10,dtype=int)) #esta función va a permitir que la lista venga en formato de número entero y no así como decimales"
      ],
      "metadata": {
        "colab": {
          "base_uri": "https://localhost:8080/"
        },
        "id": "iAoIBO7PnkzV",
        "outputId": "16e9cf5b-9709-48d6-d175-ab714201d3d4"
      },
      "execution_count": null,
      "outputs": [
        {
          "output_type": "stream",
          "name": "stdout",
          "text": [
            "[0. 0. 0. 0. 0. 0. 0. 0. 0. 0.]\n",
            "[0 0 0 0 0 0 0 0 0 0]\n"
          ]
        }
      ]
    },
    {
      "cell_type": "code",
      "source": [
        "#ejercicio2 Crear un arreglo de longitud 10 con ceros en todas sus posiciones y un 10 en la posición número 5"
      ],
      "metadata": {
        "id": "YmS9vXOolJYx"
      },
      "execution_count": null,
      "outputs": []
    },
    {
      "cell_type": "code",
      "source": [],
      "metadata": {
        "id": "8GDJEijrD-Jb"
      },
      "execution_count": null,
      "outputs": []
    },
    {
      "cell_type": "code",
      "source": [
        "array_diez=np.zeros(10) #acá creo el array con una longitud de 10\n",
        "array_diez[5]=10 #en esta instancia determino que en la posición 5 partiendo de la lista 0,1,2,3,4, y 5 se incorpore el número 10\n",
        "array_diez[7]=8 #acá replico el mismo ejercicio anterior pero incorporando el número 8 en la posición 7\n",
        "print(array_diez)\n",
        "len (array_diez)"
      ],
      "metadata": {
        "colab": {
          "base_uri": "https://localhost:8080/"
        },
        "id": "d0bEPMKDf-_l",
        "outputId": "f64e1fb1-ace5-48d9-f063-0f75fe1cd756"
      },
      "execution_count": null,
      "outputs": [
        {
          "output_type": "stream",
          "name": "stdout",
          "text": [
            "[ 0.  0.  0.  0.  0. 10.  0.  8.  0.  0.]\n"
          ]
        },
        {
          "output_type": "execute_result",
          "data": {
            "text/plain": [
              "10"
            ]
          },
          "metadata": {},
          "execution_count": 10
        }
      ]
    },
    {
      "cell_type": "code",
      "source": [
        "#ejercicio3 Crear un arreglo que tenga los números del 10 al 49"
      ],
      "metadata": {
        "id": "5YVH9cE3lMAQ"
      },
      "execution_count": null,
      "outputs": []
    },
    {
      "cell_type": "code",
      "source": [
        "array_10_49=np.arange(10,50) #determina el array con los valores del 10 al n-1, es por ello que muestra como último valor el 49\n",
        "print(array_10_49)\n",
        "len (array_10_49)"
      ],
      "metadata": {
        "colab": {
          "base_uri": "https://localhost:8080/"
        },
        "id": "M3TJDCz1g-i7",
        "outputId": "fd2a8734-8c5c-4cf8-952e-361ead5265d5"
      },
      "execution_count": null,
      "outputs": [
        {
          "output_type": "stream",
          "name": "stdout",
          "text": [
            "[10 11 12 13 14 15 16 17 18 19 20 21 22 23 24 25 26 27 28 29 30 31 32 33\n",
            " 34 35 36 37 38 39 40 41 42 43 44 45 46 47 48 49]\n"
          ]
        },
        {
          "output_type": "execute_result",
          "data": {
            "text/plain": [
              "40"
            ]
          },
          "metadata": {},
          "execution_count": 11
        }
      ]
    },
    {
      "cell_type": "code",
      "source": [
        "#ejercicio4 Crear una arreglo 2d de shape (3, 3) que tenga los números del 0 al 8"
      ],
      "metadata": {
        "id": "aJf_LVH9lO95"
      },
      "execution_count": null,
      "outputs": []
    },
    {
      "cell_type": "code",
      "source": [
        "array_8_10=np.arange(9).reshape(3,3) #en esta instancia se creó el array determinando con la función arange que contenga n-1 valores y con la función reshape cambia la forma del array en este caso da una matriz de 3x3\n",
        "print(array_8_10)\n",
        "print(array_8_10.ndim) #en esta ocasión utilice .ndim para pedir la dimensión del array\n",
        "array_8_10=np.resize(array_8_10,(6)) #resize me permitió recortar el array inicial con n-1 elementos y dejarlo en formato de lista\n",
        "print(array_8_10)"
      ],
      "metadata": {
        "colab": {
          "base_uri": "https://localhost:8080/"
        },
        "id": "IWBKX2tKguGs",
        "outputId": "578072c0-260b-4d31-9157-ffe8bbe1bbec"
      },
      "execution_count": null,
      "outputs": [
        {
          "output_type": "stream",
          "name": "stdout",
          "text": [
            "[[0 1 2]\n",
            " [3 4 5]\n",
            " [6 7 8]]\n",
            "2\n",
            "[0 1 2 3 4 5]\n"
          ]
        }
      ]
    },
    {
      "cell_type": "code",
      "source": [
        "#ejercicio5 Crear un arreglo de números aleatorios de longitud 100 y obtener su media y varianza"
      ],
      "metadata": {
        "id": "pS85BvhLlVYo"
      },
      "execution_count": null,
      "outputs": []
    },
    {
      "cell_type": "code",
      "source": [
        "array_100=np.random.rand(100) #en esta instancia creamos un array que contenga n-1 elementos pero con datos aleatorios\n",
        "print(array_100)"
      ],
      "metadata": {
        "colab": {
          "base_uri": "https://localhost:8080/"
        },
        "id": "N8mMKTPGf_Vu",
        "outputId": "b4e9b369-7724-414c-f494-811dcdce50e9"
      },
      "execution_count": null,
      "outputs": [
        {
          "output_type": "stream",
          "name": "stdout",
          "text": [
            "[7.23445630e-01 3.92379718e-01 3.30878727e-01 3.34280702e-01\n",
            " 3.54376212e-01 4.87056862e-01 6.86772173e-01 6.48278804e-01\n",
            " 1.84352706e-01 4.05904753e-01 8.93622177e-01 3.26285221e-01\n",
            " 6.37909334e-01 9.55672314e-01 8.32563527e-01 5.18709914e-01\n",
            " 6.12002814e-01 9.72170694e-01 3.81703933e-01 5.80158555e-01\n",
            " 1.18098750e-01 9.35833057e-01 6.69252616e-01 1.48460570e-01\n",
            " 8.35325762e-01 1.03547818e-01 4.40733192e-01 3.94230992e-01\n",
            " 4.71664210e-01 1.34596325e-01 7.83209630e-01 6.61250028e-01\n",
            " 2.26245033e-01 1.07533642e-01 4.68687976e-01 7.63235936e-01\n",
            " 2.22542489e-01 7.16632321e-02 7.17168320e-04 1.45315842e-01\n",
            " 2.05117493e-01 6.60988086e-01 5.84978133e-01 4.09729932e-01\n",
            " 5.15092664e-01 9.53926335e-01 9.19882712e-01 5.96716904e-01\n",
            " 2.72577520e-01 5.96044833e-01 3.63495352e-01 3.66081806e-01\n",
            " 8.52823292e-01 1.72600758e-01 9.21972767e-01 8.16694060e-01\n",
            " 9.11632308e-02 4.55539551e-01 4.31477152e-01 2.80428564e-01\n",
            " 6.64542464e-01 1.82505671e-01 4.16042961e-01 7.66060765e-01\n",
            " 9.52590682e-01 2.25534145e-01 9.26496251e-01 1.39973960e-01\n",
            " 2.48340822e-01 8.83949911e-01 6.57626191e-01 5.95024787e-02\n",
            " 3.99601211e-01 9.56479291e-02 7.01735422e-01 3.93917681e-02\n",
            " 9.13399854e-01 7.47772323e-01 9.46248004e-01 6.94516392e-01\n",
            " 2.56508840e-01 4.11944431e-01 4.91854646e-01 2.16418661e-01\n",
            " 1.65105426e-01 9.91014909e-01 1.52794711e-02 4.62508593e-01\n",
            " 3.43172648e-01 3.24730607e-01 5.76290353e-02 4.34144704e-01\n",
            " 1.11820104e-01 4.68595206e-01 6.80203344e-02 2.91928592e-01\n",
            " 7.25468335e-01 9.65519240e-01 9.14500664e-01 3.36374679e-01]\n"
          ]
        }
      ]
    },
    {
      "cell_type": "code",
      "source": [
        "array_media=np.mean(array_100) #en este caso calculamos la media aritmetica de todos los valores aleatorios que contiene mi array\n",
        "print(array_media)\n",
        "array_varianza=np.var(array_100) #con np.var podemos calcular la varianza que es la media de los cuadrados de las desviaciones sobre la media\n",
        "print(array_varianza)\n",
        "array_dstandar=np.std(array_100) #en este caso incorpore la función para calcular la desviación standar que es una medida de dispersión de los datos en relación a la media\n",
        "print(array_dstandar)"
      ],
      "metadata": {
        "id": "Cly9U6BDez8E",
        "colab": {
          "base_uri": "https://localhost:8080/"
        },
        "outputId": "346d6e4d-9bcf-44d8-c36f-9cc841b853fa"
      },
      "execution_count": null,
      "outputs": [
        {
          "output_type": "stream",
          "name": "stdout",
          "text": [
            "0.4814201851165778\n",
            "0.08308739506875785\n",
            "0.28824884226785347\n"
          ]
        }
      ]
    },
    {
      "cell_type": "code",
      "source": [
        "#ejercicio6 Calcular la media de un arreglo usando np.sum"
      ],
      "metadata": {
        "id": "nSVN0GB6lmcl"
      },
      "execution_count": null,
      "outputs": []
    },
    {
      "cell_type": "code",
      "source": [
        "listamedia=[10,20,30,40,50,60,70] #creo una lista\n",
        "array_m=np.array(listamedia)\n",
        "print(array_m)\n",
        "suma=np.sum(array_m) #aplique la función suma para el array creado\n",
        "print(suma)\n",
        "media=np.mean(array_m) #aplique la función media para el array creado\n",
        "print(media)\n",
        "array_msum=np.sum(array_m)/[len(array_m)] #en este caso se utiliza la función suma para calcular la media aritmetica\n",
        "print(array_msum)"
      ],
      "metadata": {
        "colab": {
          "base_uri": "https://localhost:8080/"
        },
        "id": "wjIj6NHvitDW",
        "outputId": "43765713-53a5-4502-b8b0-31a5e9296cb8"
      },
      "execution_count": null,
      "outputs": [
        {
          "output_type": "stream",
          "name": "stdout",
          "text": [
            "[10 20 30 40 50 60 70]\n",
            "280\n",
            "40.0\n",
            "[40.]\n"
          ]
        }
      ]
    },
    {
      "cell_type": "code",
      "source": [
        "#ejercicio 7 Calcular la varianza de un arreglo usando np.sum y np.mean"
      ],
      "metadata": {
        "id": "rprrFZZElZ7e"
      },
      "execution_count": null,
      "outputs": []
    },
    {
      "cell_type": "code",
      "source": [
        "lista1=[100,120,250,500,700,250] #creo la lista\n",
        "array_5=np.array(lista1)\n",
        "print (array_5)\n",
        "len(array_5)\n",
        "print (np.var(array_5)) #calculo la varianza\n",
        "array_suma=np.sum(array_5) #aplico función suma al array creado\n",
        "print (array_suma)\n",
        "array_media=np.mean(array_5) #aplico la función media al array creado\n",
        "print (array_media)\n",
        "Diferencia=array_5-array_media #calculo la diferencia entre el array y la media\n",
        "print (Diferencia)\n",
        "Dif_cuadrado=Diferencia**2 #elevo la diferencia al cuadrado\n",
        "print(Dif_cuadrado)\n",
        "suma_cuadrado=np.sum(Dif_cuadrado) #realizo la suma de la diferencia al cuadrado\n",
        "print(suma_cuadrado)\n",
        "varianza=suma_cuadrado/len(array_5) #calculo la varianza como el cociente entre la suma al cuadrado dividido por la longitud de mi array\n",
        "print(varianza)\n",
        "array_5_varianza=np.sum((array_5-np.mean(array_5))**2)/[len(array_5)]\n",
        "print(array_5_varianza)"
      ],
      "metadata": {
        "colab": {
          "base_uri": "https://localhost:8080/"
        },
        "id": "7Zdj3AxHlvu7",
        "outputId": "2a4fbd98-c0fb-41a3-a169-96ebdde5e2dd"
      },
      "execution_count": null,
      "outputs": [
        {
          "output_type": "stream",
          "name": "stdout",
          "text": [
            "[100 120 250 500 700 250]\n",
            "45833.333333333336\n",
            "1920\n",
            "320.0\n",
            "[-220. -200.  -70.  180.  380.  -70.]\n",
            "[ 48400.  40000.   4900.  32400. 144400.   4900.]\n",
            "275000.0\n",
            "45833.333333333336\n",
            "[45833.33333333]\n"
          ]
        }
      ]
    },
    {
      "cell_type": "code",
      "source": [
        "#Ejercicio8\n",
        "#Crear un array de números aleatorios usando np.random.randn."
      ],
      "metadata": {
        "id": "KfQNeLQJl6J5"
      },
      "execution_count": null,
      "outputs": []
    },
    {
      "cell_type": "code",
      "source": [
        "#Crear un array de números aleatorios usando np.random.randn.\n",
        "array_aletorio=np.random.rand(15) #la función np.random.randn crea una lista de 15 números aleatorios\n",
        "print(array_aletorio)"
      ],
      "metadata": {
        "colab": {
          "base_uri": "https://localhost:8080/"
        },
        "id": "ojJh0uwgl97i",
        "outputId": "e8690f9a-b116-4ce5-a29e-1e0561d320a1"
      },
      "execution_count": null,
      "outputs": [
        {
          "output_type": "stream",
          "name": "stdout",
          "text": [
            "[0.66202087 0.38242205 0.96638772 0.98863615 0.68910817 0.4043012\n",
            " 0.64983896 0.06110275 0.62030889 0.69191956 0.86496484 0.12010734\n",
            " 0.71284706 0.57183617 0.96245412]\n"
          ]
        }
      ]
    }
  ]
}