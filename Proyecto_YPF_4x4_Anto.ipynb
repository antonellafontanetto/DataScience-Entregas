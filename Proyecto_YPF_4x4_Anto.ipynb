{
  "nbformat": 4,
  "nbformat_minor": 0,
  "metadata": {
    "colab": {
      "provenance": [],
      "include_colab_link": true
    },
    "kernelspec": {
      "name": "python3",
      "display_name": "Python 3"
    },
    "language_info": {
      "name": "python"
    }
  },
  "cells": [
    {
      "cell_type": "markdown",
      "metadata": {
        "id": "view-in-github",
        "colab_type": "text"
      },
      "source": [
        "<a href=\"https://colab.research.google.com/github/antonellafontanetto/DataScience-Entregas/blob/main/Proyecto_YPF_4x4_Anto.ipynb\" target=\"_parent\"><img src=\"https://colab.research.google.com/assets/colab-badge.svg\" alt=\"Open In Colab\"/></a>"
      ]
    },
    {
      "cell_type": "markdown",
      "source": [
        "Proyecto 4x4 YPF: Primer Pilar Vaca Muerta a corto plazo\n",
        "\n",
        "El siguiente proyecto está focalizado en predecir el comportamiento de determinadas variables en el marco del proyecto 4x4 de YPF, el cual consta de cuadriplicar la empresa en los próximos 4 años a través de la expansión de la producción, eficiencia en los procesos y mayor foco en la generación de valor.\n",
        "\n",
        "Para lo cual el proyecta va a constar del siguiente procedimiento:\n",
        "\n",
        "1) Recolección de Datos\n",
        "\n",
        "2) Exploración y Procesamiento de los datos (exploración de los datos, discreción de variables, normalización, limpieza, visualización previa)\n",
        "\n",
        "3) Modelado (construir y testear modelos para predecir o clasificar información o encontrar patrones de datos)\n",
        "\n",
        "4) Puesta en Producción (predecir nuevos datos, comunicar los resultados, integrar los resultados con aplicación)\n"
      ],
      "metadata": {
        "id": "JHBc4kFUXZoT"
      }
    },
    {
      "cell_type": "markdown",
      "source": [
        "**1) Recolección de datos**"
      ],
      "metadata": {
        "id": "sflbFhvNZzp9"
      }
    },
    {
      "cell_type": "code",
      "execution_count": 2,
      "metadata": {
        "id": "Ic_EVyDRqpm2"
      },
      "outputs": [],
      "source": [
        "import pandas as pd\n",
        "import numpy as np\n",
        "import matplotlib.pyplot as plt\n",
        "import seaborn as sns\n",
        "from scipy import stats"
      ]
    },
    {
      "cell_type": "code",
      "source": [
        "#Cargo los datasets que vamos a utilizar en el proyecto\n",
        "produccion = pd.read_csv('/produccion.csv')\n",
        "pozosterminados = pd.read_csv('/pozosterminados.csv')\n",
        "productoselaborados = pd.read_csv('/productoselaborados.csv')\n",
        "volumenesdetransporte = pd.read_csv('/volumnenesdetransporte.csv')\n"
      ],
      "metadata": {
        "colab": {
          "base_uri": "https://localhost:8080/"
        },
        "id": "8wFxRZB5eAtV",
        "outputId": "98d4bac4-b9d9-47c8-ef98-afb4dcc3dca0"
      },
      "execution_count": 3,
      "outputs": [
        {
          "output_type": "stream",
          "name": "stderr",
          "text": [
            "<ipython-input-3-69a4eac82e8e>:5: DtypeWarning: Columns (20,21,24) have mixed types. Specify dtype option on import or set low_memory=False.\n",
            "  volumenesdetransporte = pd.read_csv('/volumnenesdetransporte.csv')\n"
          ]
        }
      ]
    },
    {
      "cell_type": "code",
      "source": [
        "#Unir los datasets por features en común\n",
        "df = pd.merge(produccion, pozosterminados, on='empresa')\n",
        "df = pd.merge(df, productoselaborados, on='empresa')\n",
        "df = pd.merge(df, volumenesdetransporte, on='empresa')"
      ],
      "metadata": {
        "id": "SXYRKmy1o23x"
      },
      "execution_count": null,
      "outputs": []
    }
  ]
}